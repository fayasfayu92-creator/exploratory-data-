{
 "cells": [
  {
   "cell_type": "markdown",
   "id": "adc2bda6",
   "metadata": {},
   "source": [
    "Introduction to the Loan Approval Dataset\n",
    "\n",
    "The Loan Approval dataset is a widely used dataset in machine learning and data analytics, designed to study and predict whether a loan application should be approved or rejected based on various applicant details. It simulates the decision-making process of financial institutions that evaluate loan eligibility using multiple demographic, financial, and employment-related factors.\n",
    "\n",
    "This dataset typically contains a mix of categorical and numerical variables, representing the personal and financial profile of loan applicants. By analyzing these attributes, one can train models to classify applications as approved or not approved, which can help automate and improve the loan assessment process.\n",
    "\n",
    "Common attributes in this dataset include:\n",
    "\n",
    "Gender: Applicant’s gender (Male/Female)\n",
    "\n",
    "Married: Marital status of the applicant\n",
    "\n",
    "Dependents: Number of dependents\n",
    "\n",
    "Education: Applicant’s education level (Graduate/Not Graduate)\n",
    "\n",
    "Self_Employed: Whether the applicant is self-employed or not\n",
    "\n",
    "ApplicantIncome: Applicant’s monthly income\n",
    "\n",
    "CoapplicantIncome: Co-applicant’s monthly income\n",
    "\n",
    "LoanAmount: Amount of loan applied for\n",
    "\n",
    "Loan_Amount_Term: Duration of the loan (in months)\n",
    "\n",
    "Credit_History: Credit history record (1 = good, 0 = bad)\n",
    "\n",
    "Property_Area: Type of property area (Urban, Semiurban, Rural)\n",
    "\n",
    "Loan_Status: Target variable indicating loan approval (Y = Approved, N = Not Approved"
   ]
  },
  {
   "cell_type": "code",
   "execution_count": 60,
   "id": "b090a497",
   "metadata": {},
   "outputs": [],
   "source": [
    "import pandas as pd\n",
    "import numpy as np\n",
    "import matplotlib.pyplot as plt\n",
    "import seaborn as sns\n",
    "from datetime import datetime"
   ]
  },
  {
   "cell_type": "code",
   "execution_count": 61,
   "id": "2e079c45",
   "metadata": {},
   "outputs": [
    {
     "name": "stdout",
     "output_type": "stream",
     "text": [
      "first 5 row\n",
      "              name              city  income  credit_score  loan_amount  \\\n",
      "0     Allison Hill         East Jill  113810           389        39698   \n",
      "1     Brandon Hall     New Jamesside   44592           729        15446   \n",
      "2     Rhonda Smith      Lake Roberto   33278           584        11189   \n",
      "3  Gabrielle Davis  West Melanieview  127196           344        48823   \n",
      "4     Valerie Gray         Mariastad   66048           496        47174   \n",
      "\n",
      "   years_employed  points  loan_approved  \n",
      "0              27    50.0          False  \n",
      "1              28    55.0          False  \n",
      "2              13    45.0          False  \n",
      "3              29    50.0          False  \n",
      "4               4    25.0          False  \n",
      "last 5 row\n",
      "              name              city  income  credit_score  loan_amount  \\\n",
      "0     Allison Hill         East Jill  113810           389        39698   \n",
      "1     Brandon Hall     New Jamesside   44592           729        15446   \n",
      "2     Rhonda Smith      Lake Roberto   33278           584        11189   \n",
      "3  Gabrielle Davis  West Melanieview  127196           344        48823   \n",
      "4     Valerie Gray         Mariastad   66048           496        47174   \n",
      "\n",
      "   years_employed  points  loan_approved  \n",
      "0              27    50.0          False  \n",
      "1              28    55.0          False  \n",
      "2              13    45.0          False  \n",
      "3              29    50.0          False  \n",
      "4               4    25.0          False  \n"
     ]
    }
   ],
   "source": [
    "df=pd.read_csv(r\"C:\\datascience\\project\\maachine  learning 2\\loan_approval (1).csv\")\n",
    "print(\"first 5 row\")\n",
    "print(df.head())\n",
    "print(\"last 5 row\")\n",
    "print(df.head())"
   ]
  },
  {
   "cell_type": "code",
   "execution_count": 72,
   "id": "c9dc9a51",
   "metadata": {},
   "outputs": [
    {
     "name": "stdout",
     "output_type": "stream",
     "text": [
      "<class 'pandas.core.frame.DataFrame'>\n",
      "RangeIndex: 2000 entries, 0 to 1999\n",
      "Data columns (total 8 columns):\n",
      " #   Column          Non-Null Count  Dtype  \n",
      "---  ------          --------------  -----  \n",
      " 0   name            2000 non-null   object \n",
      " 1   city            2000 non-null   object \n",
      " 2   income          2000 non-null   int64  \n",
      " 3   credit_score    2000 non-null   int64  \n",
      " 4   loan_amount     2000 non-null   int64  \n",
      " 5   years_employed  2000 non-null   int64  \n",
      " 6   points          2000 non-null   float64\n",
      " 7   loan_approved   2000 non-null   int32  \n",
      "dtypes: float64(1), int32(1), int64(4), object(2)\n",
      "memory usage: 117.3+ KB\n"
     ]
    }
   ],
   "source": [
    "df.info()"
   ]
  },
  {
   "cell_type": "code",
   "execution_count": 62,
   "id": "7d5bb5d0",
   "metadata": {},
   "outputs": [
    {
     "data": {
      "text/plain": [
       "name              0\n",
       "city              0\n",
       "income            0\n",
       "credit_score      0\n",
       "loan_amount       0\n",
       "years_employed    0\n",
       "points            0\n",
       "loan_approved     0\n",
       "dtype: int64"
      ]
     },
     "execution_count": 62,
     "metadata": {},
     "output_type": "execute_result"
    }
   ],
   "source": [
    "#data cleaning\n",
    "df.isna().sum()"
   ]
  },
  {
   "cell_type": "code",
   "execution_count": 63,
   "id": "d8cb001a",
   "metadata": {},
   "outputs": [
    {
     "data": {
      "text/plain": [
       "name               object\n",
       "city               object\n",
       "income              int64\n",
       "credit_score        int64\n",
       "loan_amount         int64\n",
       "years_employed      int64\n",
       "points            float64\n",
       "loan_approved        bool\n",
       "dtype: object"
      ]
     },
     "execution_count": 63,
     "metadata": {},
     "output_type": "execute_result"
    }
   ],
   "source": [
    "df.dtypes"
   ]
  },
  {
   "cell_type": "code",
   "execution_count": 64,
   "id": "b059f8dc",
   "metadata": {},
   "outputs": [
    {
     "name": "stdout",
     "output_type": "stream",
     "text": [
      "[False  True]\n"
     ]
    },
    {
     "data": {
      "text/html": [
       "<div>\n",
       "<style scoped>\n",
       "    .dataframe tbody tr th:only-of-type {\n",
       "        vertical-align: middle;\n",
       "    }\n",
       "\n",
       "    .dataframe tbody tr th {\n",
       "        vertical-align: top;\n",
       "    }\n",
       "\n",
       "    .dataframe thead th {\n",
       "        text-align: right;\n",
       "    }\n",
       "</style>\n",
       "<table border=\"1\" class=\"dataframe\">\n",
       "  <thead>\n",
       "    <tr style=\"text-align: right;\">\n",
       "      <th></th>\n",
       "      <th>name</th>\n",
       "      <th>city</th>\n",
       "      <th>income</th>\n",
       "      <th>credit_score</th>\n",
       "      <th>loan_amount</th>\n",
       "      <th>years_employed</th>\n",
       "      <th>points</th>\n",
       "      <th>loan_approved</th>\n",
       "    </tr>\n",
       "  </thead>\n",
       "  <tbody>\n",
       "    <tr>\n",
       "      <th>0</th>\n",
       "      <td>Allison Hill</td>\n",
       "      <td>East Jill</td>\n",
       "      <td>113810</td>\n",
       "      <td>389</td>\n",
       "      <td>39698</td>\n",
       "      <td>27</td>\n",
       "      <td>50.0</td>\n",
       "      <td>0</td>\n",
       "    </tr>\n",
       "    <tr>\n",
       "      <th>1</th>\n",
       "      <td>Brandon Hall</td>\n",
       "      <td>New Jamesside</td>\n",
       "      <td>44592</td>\n",
       "      <td>729</td>\n",
       "      <td>15446</td>\n",
       "      <td>28</td>\n",
       "      <td>55.0</td>\n",
       "      <td>0</td>\n",
       "    </tr>\n",
       "    <tr>\n",
       "      <th>2</th>\n",
       "      <td>Rhonda Smith</td>\n",
       "      <td>Lake Roberto</td>\n",
       "      <td>33278</td>\n",
       "      <td>584</td>\n",
       "      <td>11189</td>\n",
       "      <td>13</td>\n",
       "      <td>45.0</td>\n",
       "      <td>0</td>\n",
       "    </tr>\n",
       "    <tr>\n",
       "      <th>3</th>\n",
       "      <td>Gabrielle Davis</td>\n",
       "      <td>West Melanieview</td>\n",
       "      <td>127196</td>\n",
       "      <td>344</td>\n",
       "      <td>48823</td>\n",
       "      <td>29</td>\n",
       "      <td>50.0</td>\n",
       "      <td>0</td>\n",
       "    </tr>\n",
       "    <tr>\n",
       "      <th>4</th>\n",
       "      <td>Valerie Gray</td>\n",
       "      <td>Mariastad</td>\n",
       "      <td>66048</td>\n",
       "      <td>496</td>\n",
       "      <td>47174</td>\n",
       "      <td>4</td>\n",
       "      <td>25.0</td>\n",
       "      <td>0</td>\n",
       "    </tr>\n",
       "    <tr>\n",
       "      <th>...</th>\n",
       "      <td>...</td>\n",
       "      <td>...</td>\n",
       "      <td>...</td>\n",
       "      <td>...</td>\n",
       "      <td>...</td>\n",
       "      <td>...</td>\n",
       "      <td>...</td>\n",
       "      <td>...</td>\n",
       "    </tr>\n",
       "    <tr>\n",
       "      <th>1995</th>\n",
       "      <td>James Schaefer</td>\n",
       "      <td>Robertton</td>\n",
       "      <td>92163</td>\n",
       "      <td>770</td>\n",
       "      <td>12251</td>\n",
       "      <td>13</td>\n",
       "      <td>85.0</td>\n",
       "      <td>1</td>\n",
       "    </tr>\n",
       "    <tr>\n",
       "      <th>1996</th>\n",
       "      <td>Diana Lin</td>\n",
       "      <td>New Frank</td>\n",
       "      <td>38799</td>\n",
       "      <td>635</td>\n",
       "      <td>48259</td>\n",
       "      <td>17</td>\n",
       "      <td>40.0</td>\n",
       "      <td>0</td>\n",
       "    </tr>\n",
       "    <tr>\n",
       "      <th>1997</th>\n",
       "      <td>Brandon Meyer</td>\n",
       "      <td>East Haley</td>\n",
       "      <td>41957</td>\n",
       "      <td>763</td>\n",
       "      <td>16752</td>\n",
       "      <td>5</td>\n",
       "      <td>60.0</td>\n",
       "      <td>1</td>\n",
       "    </tr>\n",
       "    <tr>\n",
       "      <th>1998</th>\n",
       "      <td>Jason Price</td>\n",
       "      <td>Adamland</td>\n",
       "      <td>139022</td>\n",
       "      <td>360</td>\n",
       "      <td>24031</td>\n",
       "      <td>35</td>\n",
       "      <td>55.0</td>\n",
       "      <td>0</td>\n",
       "    </tr>\n",
       "    <tr>\n",
       "      <th>1999</th>\n",
       "      <td>Nicole Brown</td>\n",
       "      <td>New Nathantown</td>\n",
       "      <td>41188</td>\n",
       "      <td>482</td>\n",
       "      <td>31397</td>\n",
       "      <td>6</td>\n",
       "      <td>20.0</td>\n",
       "      <td>0</td>\n",
       "    </tr>\n",
       "  </tbody>\n",
       "</table>\n",
       "<p>2000 rows × 8 columns</p>\n",
       "</div>"
      ],
      "text/plain": [
       "                 name              city  income  credit_score  loan_amount  \\\n",
       "0        Allison Hill         East Jill  113810           389        39698   \n",
       "1        Brandon Hall     New Jamesside   44592           729        15446   \n",
       "2        Rhonda Smith      Lake Roberto   33278           584        11189   \n",
       "3     Gabrielle Davis  West Melanieview  127196           344        48823   \n",
       "4        Valerie Gray         Mariastad   66048           496        47174   \n",
       "...               ...               ...     ...           ...          ...   \n",
       "1995   James Schaefer         Robertton   92163           770        12251   \n",
       "1996        Diana Lin         New Frank   38799           635        48259   \n",
       "1997    Brandon Meyer        East Haley   41957           763        16752   \n",
       "1998      Jason Price          Adamland  139022           360        24031   \n",
       "1999     Nicole Brown    New Nathantown   41188           482        31397   \n",
       "\n",
       "      years_employed  points  loan_approved  \n",
       "0                 27    50.0              0  \n",
       "1                 28    55.0              0  \n",
       "2                 13    45.0              0  \n",
       "3                 29    50.0              0  \n",
       "4                  4    25.0              0  \n",
       "...              ...     ...            ...  \n",
       "1995              13    85.0              1  \n",
       "1996              17    40.0              0  \n",
       "1997               5    60.0              1  \n",
       "1998              35    55.0              0  \n",
       "1999               6    20.0              0  \n",
       "\n",
       "[2000 rows x 8 columns]"
      ]
     },
     "execution_count": 64,
     "metadata": {},
     "output_type": "execute_result"
    }
   ],
   "source": [
    "print(df['loan_approved'].unique())\n",
    "df['loan_approved']=df['loan_approved'].astype(int)\n",
    "df"
   ]
  },
  {
   "cell_type": "code",
   "execution_count": 65,
   "id": "802fc43b",
   "metadata": {},
   "outputs": [
    {
     "data": {
      "text/plain": [
       "(array([0, 1, 2, 3, 4, 5]),\n",
       " [Text(0, 0, 'income'),\n",
       "  Text(1, 0, 'credit_score'),\n",
       "  Text(2, 0, 'loan_amount'),\n",
       "  Text(3, 0, 'years_employed'),\n",
       "  Text(4, 0, 'points'),\n",
       "  Text(5, 0, 'loan_approved')])"
      ]
     },
     "execution_count": 65,
     "metadata": {},
     "output_type": "execute_result"
    },
    {
     "data": {
      "image/png": "[encoded data removed]",
      "text/plain": [
       "<Figure size 640x480 with 1 Axes>"
      ]
     },
     "metadata": {},
     "output_type": "display_data"
    }
   ],
   "source": [
    "sns.boxplot(df)\n",
    "plt.xticks(rotation=45)"
   ]
  },
  {
   "cell_type": "code",
   "execution_count": 66,
   "id": "3b7e2d61",
   "metadata": {},
   "outputs": [
    {
     "data": {
      "image/png": "[encoded data removed]",
      "text/plain": [
       "<Figure size 1000x600 with 2 Axes>"
      ]
     },
     "metadata": {},
     "output_type": "display_data"
    }
   ],
   "source": [
    "# Correlation Heatmap\n",
    "plt.figure(figsize=(10,6))\n",
    "sns.heatmap(df.corr(numeric_only=True), annot=True, cmap=\"coolwarm\")\n",
    "plt.title(\"Correlation Heatmap\")\n",
    "plt.show()"
   ]
  },
  {
   "cell_type": "code",
   "execution_count": 67,
   "id": "3a6b72df",
   "metadata": {},
   "outputs": [],
   "source": [
    "x=df[['credit_score','points']]\n",
    "y=df['loan_approved']"
   ]
  },
  {
   "cell_type": "code",
   "execution_count": 68,
   "id": "70469ba5",
   "metadata": {},
   "outputs": [],
   "source": [
    "# splitting data\n",
    "from sklearn.model_selection import train_test_split\n",
    "X_train, X_test, y_train, y_test = train_test_split(x, y, test_size=0.2, random_state=42)"
   ]
  },
  {
   "cell_type": "code",
   "execution_count": 69,
   "id": "4e81baa8",
   "metadata": {},
   "outputs": [],
   "source": [
    "from sklearn.linear_model import LogisticRegression\n",
    "logreg = LogisticRegression(solver='lbfgs', max_iter= 1000)\n",
    "# fitting model with data\n",
    "logreg.fit(X_train,y_train)\n",
    "y_pred = logreg.predict(X_test)"
   ]
  },
  {
   "cell_type": "code",
   "execution_count": 70,
   "id": "f076f072",
   "metadata": {},
   "outputs": [
    {
     "name": "stdout",
     "output_type": "stream",
     "text": [
      "<function mean_absolute_error at 0x000001D777E67910>\n",
      "Mean Squared Error: 0.0\n",
      "Root Mean Squared Error: 0.0\n",
      "Accuracy: 1.0\n"
     ]
    }
   ],
   "source": [
    "#Evaluating the Algorithm\n",
    "from sklearn import metrics\n",
    "print(metrics.mean_absolute_error)\n",
    "print('Mean Squared Error:', metrics.mean_squared_error(y_test, y_pred))\n",
    "print('Root Mean Squared Error:',np.sqrt(metrics.mean_squared_error(y_test, y_pred) ))\n",
    "print(\"Accuracy:\", metrics. accuracy_score(y_test, y_pred))"
   ]
  },
  {
   "cell_type": "markdown",
   "id": "9e4c67e9",
   "metadata": {},
   "source": [
    "using  svm"
   ]
  },
  {
   "cell_type": "code",
   "execution_count": 71,
   "id": "36a20a62",
   "metadata": {},
   "outputs": [
    {
     "name": "stdout",
     "output_type": "stream",
     "text": [
      "Accuracy: 100.00\n",
      "[0]\n"
     ]
    },
    {
     "name": "stderr",
     "output_type": "stream",
     "text": [
      "c:\\Users\\ruksana\\anaconda3\\lib\\site-packages\\sklearn\\base.py:420: UserWarning: X does not have valid feature names, but StandardScaler was fitted with feature names\n",
      "  warnings.warn(\n",
      "c:\\Users\\ruksana\\anaconda3\\lib\\site-packages\\sklearn\\base.py:420: UserWarning: X does not have valid feature names, but SVC was fitted with feature names\n",
      "  warnings.warn(\n"
     ]
    }
   ],
   "source": [
    "from sklearn.preprocessing import StandardScaler\n",
    "st_x= StandardScaler()\n",
    "x_train= st_x.fit_transform(X_train)\n",
    "x_test= st_x. transform(X_test)\n",
    "\n",
    "\n",
    "from sklearn.svm import SVC \n",
    "classifier = SVC(kernel='linear' ,random_state=0)\n",
    "classifier.fit(X_train, y_train)\n",
    "\n",
    "\n",
    "#Predicting the test set result\n",
    "y_pred= classifier.predict(X_test)\n",
    "\n",
    "# evaluate predictions\n",
    "accuracy = metrics.accuracy_score(y_test, y_pred)\n",
    "print('Accuracy: %.2f'% (accuracy*100))\n",
    "test=[[500,50]]\n",
    "test=st_x.transform(test)\n",
    "y_pred_2=classifier.predict(test)\n",
    "print(y_pred_2)"
   ]
  }
 ],
 "metadata": {
  "kernelspec": {
   "display_name": "base",
   "language": "python",
   "name": "python3"
  },
  "language_info": {
   "codemirror_mode": {
    "name": "ipython",
    "version": 3
   },
   "file_extension": ".py",
   "mimetype": "text/x-python",
   "name": "python",
   "nbconvert_exporter": "python",
   "pygments_lexer": "ipython3",
   "version": "3.10.9"
  }
 },
 "nbformat": 4,
 "nbformat_minor": 5
}
